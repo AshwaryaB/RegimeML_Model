{
 "cells": [
  {
   "cell_type": "code",
   "execution_count": 115,
   "id": "d45e8426",
   "metadata": {},
   "outputs": [],
   "source": [
    "import numpy as np\n",
    "import pandas as pd\n"
   ]
  },
  {
   "cell_type": "code",
   "execution_count": 116,
   "id": "21038d03",
   "metadata": {},
   "outputs": [],
   "source": [
    "dates =['20250314','20250315','20250316','20250317']\n",
    "aggtrade=[]\n",
    "depth20=[]\n",
    "for date in dates:\n",
    "    aggtrade_one= (f\"/Users/ashwaryabhandarkar/Desktop/regime/data/aggTrade/BNBFDUSD_{date}.txt\")\n",
    "    depth20_one=(f\"/Users/ashwaryabhandarkar/Desktop/regime/data/depth20_1000ms/BNBFDUSD_{date}.txt\")\n",
    "    agg_trade= pd.read_csv(aggtrade_one)\n",
    "    depth= pd.read_csv(depth20_one)\n",
    "    aggtrade.append(agg_trade)\n",
    "    depth20.append(depth)\n",
    "\n",
    "aggtrade = pd.concat(aggtrade, ignore_index=True)\n",
    "depth20 = pd.concat(depth20, ignore_index=True)"
   ]
  },
  {
   "cell_type": "code",
   "execution_count": 117,
   "id": "fe710750",
   "metadata": {},
   "outputs": [
    {
     "data": {
      "text/html": [
       "<div>\n",
       "<style scoped>\n",
       "    .dataframe tbody tr th:only-of-type {\n",
       "        vertical-align: middle;\n",
       "    }\n",
       "\n",
       "    .dataframe tbody tr th {\n",
       "        vertical-align: top;\n",
       "    }\n",
       "\n",
       "    .dataframe thead th {\n",
       "        text-align: right;\n",
       "    }\n",
       "</style>\n",
       "<table border=\"1\" class=\"dataframe\">\n",
       "  <thead>\n",
       "    <tr style=\"text-align: right;\">\n",
       "      <th></th>\n",
       "      <th>Time</th>\n",
       "      <th>Price</th>\n",
       "      <th>Quantity</th>\n",
       "      <th>IsMarketMaker</th>\n",
       "      <th>NumTrades</th>\n",
       "      <th>M</th>\n",
       "    </tr>\n",
       "  </thead>\n",
       "  <tbody>\n",
       "    <tr>\n",
       "      <th>0</th>\n",
       "      <td>2025-03-14 00:00:02.764823793 +0530 IST</td>\n",
       "      <td>579.41</td>\n",
       "      <td>0.496</td>\n",
       "      <td>True</td>\n",
       "      <td>1</td>\n",
       "      <td>True</td>\n",
       "    </tr>\n",
       "    <tr>\n",
       "      <th>1</th>\n",
       "      <td>2025-03-14 00:00:02.781509697 +0530 IST</td>\n",
       "      <td>579.38</td>\n",
       "      <td>0.013</td>\n",
       "      <td>True</td>\n",
       "      <td>1</td>\n",
       "      <td>True</td>\n",
       "    </tr>\n",
       "    <tr>\n",
       "      <th>2</th>\n",
       "      <td>2025-03-14 00:00:02.8057318 +0530 IST</td>\n",
       "      <td>579.38</td>\n",
       "      <td>0.104</td>\n",
       "      <td>True</td>\n",
       "      <td>1</td>\n",
       "      <td>True</td>\n",
       "    </tr>\n",
       "    <tr>\n",
       "      <th>3</th>\n",
       "      <td>2025-03-14 00:00:03.902576812 +0530 IST</td>\n",
       "      <td>579.34</td>\n",
       "      <td>0.496</td>\n",
       "      <td>True</td>\n",
       "      <td>1</td>\n",
       "      <td>True</td>\n",
       "    </tr>\n",
       "    <tr>\n",
       "      <th>4</th>\n",
       "      <td>2025-03-14 00:00:03.905083833 +0530 IST</td>\n",
       "      <td>579.32</td>\n",
       "      <td>2.739</td>\n",
       "      <td>True</td>\n",
       "      <td>2</td>\n",
       "      <td>True</td>\n",
       "    </tr>\n",
       "  </tbody>\n",
       "</table>\n",
       "</div>"
      ],
      "text/plain": [
       "                                      Time   Price  Quantity  IsMarketMaker  \\\n",
       "0  2025-03-14 00:00:02.764823793 +0530 IST  579.41     0.496           True   \n",
       "1  2025-03-14 00:00:02.781509697 +0530 IST  579.38     0.013           True   \n",
       "2    2025-03-14 00:00:02.8057318 +0530 IST  579.38     0.104           True   \n",
       "3  2025-03-14 00:00:03.902576812 +0530 IST  579.34     0.496           True   \n",
       "4  2025-03-14 00:00:03.905083833 +0530 IST  579.32     2.739           True   \n",
       "\n",
       "   NumTrades     M  \n",
       "0          1  True  \n",
       "1          1  True  \n",
       "2          1  True  \n",
       "3          1  True  \n",
       "4          2  True  "
      ]
     },
     "execution_count": 117,
     "metadata": {},
     "output_type": "execute_result"
    }
   ],
   "source": [
    "aggtrade.head(5)"
   ]
  },
  {
   "cell_type": "code",
   "execution_count": 118,
   "id": "6b0bc6eb",
   "metadata": {},
   "outputs": [
    {
     "data": {
      "text/html": [
       "<div>\n",
       "<style scoped>\n",
       "    .dataframe tbody tr th:only-of-type {\n",
       "        vertical-align: middle;\n",
       "    }\n",
       "\n",
       "    .dataframe tbody tr th {\n",
       "        vertical-align: top;\n",
       "    }\n",
       "\n",
       "    .dataframe thead th {\n",
       "        text-align: right;\n",
       "    }\n",
       "</style>\n",
       "<table border=\"1\" class=\"dataframe\">\n",
       "  <thead>\n",
       "    <tr style=\"text-align: right;\">\n",
       "      <th></th>\n",
       "      <th>Time</th>\n",
       "      <th>BidPriceL20</th>\n",
       "      <th>BidQtyL20</th>\n",
       "      <th>BidPriceL19</th>\n",
       "      <th>BidQtyL19</th>\n",
       "      <th>BidPriceL18</th>\n",
       "      <th>BidQtyL18</th>\n",
       "      <th>BidPriceL17</th>\n",
       "      <th>BidQtyL17</th>\n",
       "      <th>BidPriceL16</th>\n",
       "      <th>...</th>\n",
       "      <th>AskPriceL16</th>\n",
       "      <th>AskQtyL16</th>\n",
       "      <th>AskPriceL17</th>\n",
       "      <th>AskQtyL17</th>\n",
       "      <th>AskPriceL18</th>\n",
       "      <th>AskQtyL18</th>\n",
       "      <th>AskPriceL19</th>\n",
       "      <th>AskQtyL19</th>\n",
       "      <th>AskPriceL20</th>\n",
       "      <th>AskQtyL20</th>\n",
       "    </tr>\n",
       "  </thead>\n",
       "  <tbody>\n",
       "    <tr>\n",
       "      <th>0</th>\n",
       "      <td>2025-03-14 00:00:02.292522546 +0530 IST</td>\n",
       "      <td>579.20</td>\n",
       "      <td>0.621</td>\n",
       "      <td>579.24</td>\n",
       "      <td>0.015</td>\n",
       "      <td>579.25</td>\n",
       "      <td>0.009</td>\n",
       "      <td>579.26</td>\n",
       "      <td>0.013</td>\n",
       "      <td>579.27</td>\n",
       "      <td>...</td>\n",
       "      <td>579.67</td>\n",
       "      <td>1.151</td>\n",
       "      <td>579.68</td>\n",
       "      <td>0.043</td>\n",
       "      <td>579.69</td>\n",
       "      <td>1.258</td>\n",
       "      <td>579.70</td>\n",
       "      <td>0.911</td>\n",
       "      <td>579.71</td>\n",
       "      <td>2.025</td>\n",
       "    </tr>\n",
       "    <tr>\n",
       "      <th>1</th>\n",
       "      <td>2025-03-14 00:00:03.292828523 +0530 IST</td>\n",
       "      <td>579.08</td>\n",
       "      <td>2.612</td>\n",
       "      <td>579.09</td>\n",
       "      <td>8.606</td>\n",
       "      <td>579.10</td>\n",
       "      <td>3.453</td>\n",
       "      <td>579.11</td>\n",
       "      <td>3.825</td>\n",
       "      <td>579.12</td>\n",
       "      <td>...</td>\n",
       "      <td>579.59</td>\n",
       "      <td>0.971</td>\n",
       "      <td>579.60</td>\n",
       "      <td>5.071</td>\n",
       "      <td>579.61</td>\n",
       "      <td>4.894</td>\n",
       "      <td>579.62</td>\n",
       "      <td>1.017</td>\n",
       "      <td>579.63</td>\n",
       "      <td>0.048</td>\n",
       "    </tr>\n",
       "    <tr>\n",
       "      <th>2</th>\n",
       "      <td>2025-03-14 00:00:04.292889586 +0530 IST</td>\n",
       "      <td>579.14</td>\n",
       "      <td>1.948</td>\n",
       "      <td>579.15</td>\n",
       "      <td>3.957</td>\n",
       "      <td>579.18</td>\n",
       "      <td>1.681</td>\n",
       "      <td>579.19</td>\n",
       "      <td>3.465</td>\n",
       "      <td>579.20</td>\n",
       "      <td>...</td>\n",
       "      <td>579.62</td>\n",
       "      <td>1.017</td>\n",
       "      <td>579.63</td>\n",
       "      <td>0.048</td>\n",
       "      <td>579.64</td>\n",
       "      <td>9.720</td>\n",
       "      <td>579.65</td>\n",
       "      <td>2.025</td>\n",
       "      <td>579.66</td>\n",
       "      <td>0.365</td>\n",
       "    </tr>\n",
       "    <tr>\n",
       "      <th>3</th>\n",
       "      <td>2025-03-14 00:00:05.292551566 +0530 IST</td>\n",
       "      <td>579.07</td>\n",
       "      <td>0.013</td>\n",
       "      <td>579.08</td>\n",
       "      <td>0.013</td>\n",
       "      <td>579.09</td>\n",
       "      <td>8.606</td>\n",
       "      <td>579.10</td>\n",
       "      <td>3.453</td>\n",
       "      <td>579.11</td>\n",
       "      <td>...</td>\n",
       "      <td>579.56</td>\n",
       "      <td>0.024</td>\n",
       "      <td>579.57</td>\n",
       "      <td>1.926</td>\n",
       "      <td>579.58</td>\n",
       "      <td>2.127</td>\n",
       "      <td>579.59</td>\n",
       "      <td>0.279</td>\n",
       "      <td>579.60</td>\n",
       "      <td>7.213</td>\n",
       "    </tr>\n",
       "    <tr>\n",
       "      <th>4</th>\n",
       "      <td>2025-03-14 00:00:06.292725093 +0530 IST</td>\n",
       "      <td>579.11</td>\n",
       "      <td>9.143</td>\n",
       "      <td>579.12</td>\n",
       "      <td>6.361</td>\n",
       "      <td>579.13</td>\n",
       "      <td>5.837</td>\n",
       "      <td>579.14</td>\n",
       "      <td>2.816</td>\n",
       "      <td>579.15</td>\n",
       "      <td>...</td>\n",
       "      <td>579.56</td>\n",
       "      <td>0.024</td>\n",
       "      <td>579.57</td>\n",
       "      <td>1.926</td>\n",
       "      <td>579.58</td>\n",
       "      <td>2.127</td>\n",
       "      <td>579.59</td>\n",
       "      <td>0.279</td>\n",
       "      <td>579.60</td>\n",
       "      <td>10.469</td>\n",
       "    </tr>\n",
       "  </tbody>\n",
       "</table>\n",
       "<p>5 rows × 81 columns</p>\n",
       "</div>"
      ],
      "text/plain": [
       "                                      Time  BidPriceL20  BidQtyL20  \\\n",
       "0  2025-03-14 00:00:02.292522546 +0530 IST       579.20      0.621   \n",
       "1  2025-03-14 00:00:03.292828523 +0530 IST       579.08      2.612   \n",
       "2  2025-03-14 00:00:04.292889586 +0530 IST       579.14      1.948   \n",
       "3  2025-03-14 00:00:05.292551566 +0530 IST       579.07      0.013   \n",
       "4  2025-03-14 00:00:06.292725093 +0530 IST       579.11      9.143   \n",
       "\n",
       "   BidPriceL19  BidQtyL19  BidPriceL18  BidQtyL18  BidPriceL17  BidQtyL17  \\\n",
       "0       579.24      0.015       579.25      0.009       579.26      0.013   \n",
       "1       579.09      8.606       579.10      3.453       579.11      3.825   \n",
       "2       579.15      3.957       579.18      1.681       579.19      3.465   \n",
       "3       579.08      0.013       579.09      8.606       579.10      3.453   \n",
       "4       579.12      6.361       579.13      5.837       579.14      2.816   \n",
       "\n",
       "   BidPriceL16  ...  AskPriceL16  AskQtyL16  AskPriceL17  AskQtyL17  \\\n",
       "0       579.27  ...       579.67      1.151       579.68      0.043   \n",
       "1       579.12  ...       579.59      0.971       579.60      5.071   \n",
       "2       579.20  ...       579.62      1.017       579.63      0.048   \n",
       "3       579.11  ...       579.56      0.024       579.57      1.926   \n",
       "4       579.15  ...       579.56      0.024       579.57      1.926   \n",
       "\n",
       "   AskPriceL18  AskQtyL18  AskPriceL19  AskQtyL19  AskPriceL20  AskQtyL20  \n",
       "0       579.69      1.258       579.70      0.911       579.71      2.025  \n",
       "1       579.61      4.894       579.62      1.017       579.63      0.048  \n",
       "2       579.64      9.720       579.65      2.025       579.66      0.365  \n",
       "3       579.58      2.127       579.59      0.279       579.60      7.213  \n",
       "4       579.58      2.127       579.59      0.279       579.60     10.469  \n",
       "\n",
       "[5 rows x 81 columns]"
      ]
     },
     "execution_count": 118,
     "metadata": {},
     "output_type": "execute_result"
    }
   ],
   "source": [
    "depth20.head(5)"
   ]
  },
  {
   "cell_type": "code",
   "execution_count": 119,
   "id": "839a6c5c",
   "metadata": {},
   "outputs": [],
   "source": [
    "# Feature Engineering\n",
    "for i in range(1,21):\n",
    "    depth20[f'SpreadL{i}'] = depth20[f'BidPriceL{i}'] - depth20[f'AskPriceL{i}']\n",
    "    depth20[f'imbalance_level{i}']= (depth20[f'BidQtyL{i}'] - depth20[f'AskQtyL{i}'])/(depth20[f'BidQtyL{i}'] + depth20[f'AskQtyL{i}'])\n",
    "    depth20[f'micro_priceL{i}']= (depth20[f'BidPriceL{i}']*depth20[f'AskQtyL{i}'] + depth20[f'AskPriceL{i}']*depth20[f'BidQtyL{i}'])/(depth20[f'BidQtyL{i}'] + depth20[f'AskQtyL{i}'])\n",
    "\n",
    "depth20[f'mid_price']= (depth20[f'BidPriceL1']+ depth20[f'AskPriceL1'])/2\n",
    "depth20[f'Rolling mid-price return']= np.log(depth20[f'mid_price']/depth20[f'mid_price'].shift(1))\n",
    "depth20[f'Price volatility_10s']= depth20[f'Rolling mid-price return'].rolling(window=10).std()\n",
    "depth20[f'Price volatility_30s']= depth20[f'Rolling mid-price return'].rolling(window=30).std()\n",
    "depth20[f'cum_bid_qty']= depth20[[f'BidQtyL{j}' for j in range(1,21)]].sum(axis=1)\n",
    "depth20[f'cum_ask_qty']= depth20[[f'AskQtyL{j}' for j in range(1,21)]].sum(axis=1)\n"
   ]
  },
  {
   "cell_type": "code",
   "execution_count": 120,
   "id": "0c975aef",
   "metadata": {},
   "outputs": [],
   "source": [
    "aggtrade[f'buyvol']=aggtrade.loc[~aggtrade[f'IsMarketMaker'],'Quantity']\n",
    "aggtrade[f'sellvol']=aggtrade.loc[aggtrade[f'IsMarketMaker'], 'Quantity']\n",
    "aggtrade[f'buyvol']=aggtrade[f'buyvol'].fillna(0)\n",
    "aggtrade[f'sellvol']=aggtrade[f'sellvol'].fillna(0)\n",
    "aggtrade[f'buyvol_10s']=aggtrade[f'buyvol'].rolling(window=10).sum()\n",
    "aggtrade[f'sellvol_10s']=aggtrade[f'sellvol'].rolling(window=10).sum()\n",
    "aggtrade[f'buyvol_30s']=aggtrade[f'buyvol'].rolling(window=30).sum()\n",
    "aggtrade[f'sellvol_30s']=aggtrade[f'sellvol'].rolling(window=30).sum()\n",
    "aggtrade[f'vol_imbalance']= (aggtrade[f'buyvol']-aggtrade[f'sellvol'])/(aggtrade[f'buyvol']+aggtrade[f'sellvol'] + 1e-9)\n",
    "aggtrade[f'Qty_cumsum']=aggtrade['Quantity'].cumsum()\n",
    "aggtrade[f'PQ']= (aggtrade['Price']*aggtrade[f'Quantity']).cumsum()\n",
    "aggtrade[f'VWAP']= aggtrade[f'PQ']/aggtrade[f'Qty_cumsum']\n",
    "aggtrade['VWAP_Shift']= aggtrade['VWAP'].rolling(window=10).mean()\n"
   ]
  },
  {
   "cell_type": "code",
   "execution_count": 121,
   "id": "9b8b614a",
   "metadata": {},
   "outputs": [],
   "source": [
    "from sklearn.linear_model import LinearRegression\n",
    "\n",
    "level = np.arange(1,21).reshape(-1,1)\n",
    "\n",
    "def slope(row,side='Bid'):\n",
    "    qty= np.array([row[f'{side}QtyL{i}'] for i in range(1,21)]).reshape(-1,1)\n",
    "    model = LinearRegression().fit(level,qty)\n",
    "    return model.coef_[0][0]\n",
    "\n",
    "depth20[f'BidSlope']= depth20.apply(lambda row: slope(row,side='Bid'), axis=1)\n",
    "depth20[f'AskSlope']= depth20.apply(lambda row: slope(row,side='Ask'), axis=1)"
   ]
  },
  {
   "cell_type": "code",
   "execution_count": 122,
   "id": "627c87b9",
   "metadata": {},
   "outputs": [
    {
     "data": {
      "text/plain": [
       "0         0.139941\n",
       "1         0.141672\n",
       "2         0.054080\n",
       "3         0.259286\n",
       "4         0.368954\n",
       "            ...   \n",
       "338514    0.142747\n",
       "338515    0.284011\n",
       "338516    0.284011\n",
       "338517    0.280952\n",
       "338518    0.151410\n",
       "Name: BidSlope, Length: 338519, dtype: float64"
      ]
     },
     "execution_count": 122,
     "metadata": {},
     "output_type": "execute_result"
    }
   ],
   "source": [
    "depth20[f'BidSlope']\n"
   ]
  },
  {
   "cell_type": "code",
   "execution_count": 123,
   "id": "854ff499",
   "metadata": {},
   "outputs": [
    {
     "data": {
      "text/plain": [
       "0        -0.001229\n",
       "1         0.087053\n",
       "2         0.132226\n",
       "3         0.110089\n",
       "4         0.164323\n",
       "            ...   \n",
       "338514    0.079064\n",
       "338515   -0.046566\n",
       "338516   -0.037452\n",
       "338517    0.047269\n",
       "338518    0.374069\n",
       "Name: AskSlope, Length: 338519, dtype: float64"
      ]
     },
     "execution_count": 123,
     "metadata": {},
     "output_type": "execute_result"
    }
   ],
   "source": [
    "depth20[f'AskSlope']"
   ]
  },
  {
   "cell_type": "code",
   "execution_count": null,
   "id": "a5833f69",
   "metadata": {},
   "outputs": [],
   "source": [
    "depth20['Time'] = depth20['Time'].str.replace(' IST', '', regex=False)\n",
    "aggtrade['Time'] = aggtrade['Time'].str.replace(' IST', '', regex=False)\n",
    "\n",
    "depth20['Time'] = pd.to_datetime(depth20['Time'])\n",
    "aggtrade['Time'] = pd.to_datetime(aggtrade['Time'])\n",
    "\n",
    "depth20 = depth20.set_index('Time')\n",
    "\n",
    "bid_price_level = [f'BidPriceL{i}' for i in range(1, 21)]\n",
    "ask_price_level = [f'AskPriceL{i}' for i in range(1, 21)]\n",
    "\n",
    "buy_trade_wipe = []\n",
    "sell_trade_wipe = []\n",
    "\n",
    "for idx, row in aggtrade.iterrows():\n",
    "    trade_price = row['Price']\n",
    "    trade_time = row['Time']\n",
    "    is_maker = row['IsMarketMaker']\n",
    "\n",
    "    closest_time = depth20.index.get_indexer([trade_time], method='nearest')\n",
    "    if closest_time[0] == -1:\n",
    "        continue\n",
    "    else:\n",
    "        obs_snapshot = depth20.iloc[closest_time[0]]\n",
    "\n",
    "    wipe_level = 0\n",
    "\n",
    "    if is_maker:\n",
    "        for lvl, bid_col in enumerate(bid_price_level, start=1):\n",
    "            if obs_snapshot[bid_col] >= trade_price:\n",
    "                wipe_level = lvl\n",
    "            else:\n",
    "                break\n",
    "        \n",
    "        sell_trade_wipe.append(wipe_level)\n",
    "        buy_trade_wipe.append(0)\n",
    "\n",
    "    else:\n",
    "        for lvl, ask_col in enumerate(ask_price_level, start=1):\n",
    "            if obs_snapshot[ask_col] <= trade_price:\n",
    "                wipe_level = lvl\n",
    "            else:\n",
    "                break\n",
    "        \n",
    "        buy_trade_wipe.append(wipe_level)\n",
    "        sell_trade_wipe.append(0)\n",
    "\n",
    "aggtrade[f'Buy_wipelvl'] = buy_trade_wipe\n",
    "aggtrade[f'Sell_wipelvl'] = sell_trade_wipe\n",
    "\n"
   ]
  },
  {
   "cell_type": "code",
   "execution_count": null,
   "id": "2a766040",
   "metadata": {},
   "outputs": [],
   "source": [
    "aggtrade['Buy_wipelvl_avg']=aggtrade[f'Buy_wipelvl'].rolling(window=10).mean()\n",
    "aggtrade['Sell_wipelvl_avg']=aggtrade[f'Sell_wipelvl'].rolling(window=10).mean()\n"
   ]
  },
  {
   "cell_type": "code",
   "execution_count": null,
   "id": "e26531b6",
   "metadata": {},
   "outputs": [
    {
     "name": "stdout",
     "output_type": "stream",
     "text": [
      "['BidPriceL20', 'BidQtyL20', 'BidPriceL19', 'BidQtyL19', 'BidPriceL18', 'BidQtyL18', 'BidPriceL17', 'BidQtyL17', 'BidPriceL16', 'BidQtyL16', 'BidPriceL15', 'BidQtyL15', 'BidPriceL14', 'BidQtyL14', 'BidPriceL13', 'BidQtyL13', 'BidPriceL12', 'BidQtyL12', 'BidPriceL11', 'BidQtyL11', 'BidPriceL10', 'BidQtyL10', 'BidPriceL9', 'BidQtyL9', 'BidPriceL8', 'BidQtyL8', 'BidPriceL7', 'BidQtyL7', 'BidPriceL6', 'BidQtyL6', 'BidPriceL5', 'BidQtyL5', 'BidPriceL4', 'BidQtyL4', 'BidPriceL3', 'BidQtyL3', 'BidPriceL2', 'BidQtyL2', 'BidPriceL1', 'BidQtyL1', 'AskPriceL1', 'AskQtyL1', 'AskPriceL2', 'AskQtyL2', 'AskPriceL3', 'AskQtyL3', 'AskPriceL4', 'AskQtyL4', 'AskPriceL5', 'AskQtyL5', 'AskPriceL6', 'AskQtyL6', 'AskPriceL7', 'AskQtyL7', 'AskPriceL8', 'AskQtyL8', 'AskPriceL9', 'AskQtyL9', 'AskPriceL10', 'AskQtyL10', 'AskPriceL11', 'AskQtyL11', 'AskPriceL12', 'AskQtyL12', 'AskPriceL13', 'AskQtyL13', 'AskPriceL14', 'AskQtyL14', 'AskPriceL15', 'AskQtyL15', 'AskPriceL16', 'AskQtyL16', 'AskPriceL17', 'AskQtyL17', 'AskPriceL18', 'AskQtyL18', 'AskPriceL19', 'AskQtyL19', 'AskPriceL20', 'AskQtyL20', 'SpreadL1', 'imbalance_level1', 'micro_priceL1', 'SpreadL2', 'imbalance_level2', 'micro_priceL2', 'SpreadL3', 'imbalance_level3', 'micro_priceL3', 'SpreadL4', 'imbalance_level4', 'micro_priceL4', 'SpreadL5', 'imbalance_level5', 'micro_priceL5', 'SpreadL6', 'imbalance_level6', 'micro_priceL6', 'SpreadL7', 'imbalance_level7', 'micro_priceL7', 'SpreadL8', 'imbalance_level8', 'micro_priceL8', 'SpreadL9', 'imbalance_level9', 'micro_priceL9', 'SpreadL10', 'imbalance_level10', 'micro_priceL10', 'SpreadL11', 'imbalance_level11', 'micro_priceL11', 'SpreadL12', 'imbalance_level12', 'micro_priceL12', 'SpreadL13', 'imbalance_level13', 'micro_priceL13', 'SpreadL14', 'imbalance_level14', 'micro_priceL14', 'SpreadL15', 'imbalance_level15', 'micro_priceL15', 'SpreadL16', 'imbalance_level16', 'micro_priceL16', 'SpreadL17', 'imbalance_level17', 'micro_priceL17', 'SpreadL18', 'imbalance_level18', 'micro_priceL18', 'SpreadL19', 'imbalance_level19', 'micro_priceL19', 'SpreadL20', 'imbalance_level20', 'micro_priceL20', 'mid_price', 'Rolling mid-price return', 'Price volatility_10s', 'Price volatility_30s', 'cum_bid_qty', 'cum_ask_qty', 'BidSlope', 'AskSlope']\n"
     ]
    }
   ],
   "source": [
    "print(depth20.columns.tolist())\n"
   ]
  },
  {
   "cell_type": "code",
   "execution_count": null,
   "id": "928e25c7",
   "metadata": {},
   "outputs": [],
   "source": [
    "from sklearn.preprocessing import StandardScaler\n",
    "\n",
    "feature_cols1 = ['buyvol_10s', 'sellvol_10s', 'buyvol_30s', 'sellvol_30s',\n",
    "                 'vol_imbalance', 'Qty_cumsum', 'PQ', 'VWAP', 'VWAP_Shift', 'Buy_wipelvl', \n",
    "                 'Sell_wipelvl', 'Buy_wipelvl_avg', 'Sell_wipelvl_avg']\n",
    "\n",
    "feature_cols2 = ['mid_price', 'Rolling mid-price return', 'Price volatility_10s', \n",
    "                 'Price volatility_30s', 'cum_bid_qty', 'cum_ask_qty', 'BidSlope', 'AskSlope']\n",
    "feature_cols3 = [f'SpreadL{i}' for i in range(1,21)]                \n",
    "feature_cols4 = [f'imbalance_level{i}' for i in range(1,21)]\n",
    "feature_cols5 = [f'micro_priceL{i}' for i in range(1,21)]\n",
    "\n",
    "scaler= StandardScaler()\n",
    "normalised_array = scaler.fit_transform(aggtrade[feature_cols1]) # contains 13 arrays in 1 array \n",
    "normalised_array_dept20_a = scaler.fit_transform(depth20[feature_cols2]) \n",
    "normalised_array_dept20_b = scaler.fit_transform(depth20[feature_cols3])\n",
    "normalised_array_dept20_c = scaler.fit_transform(depth20[feature_cols4])\n",
    "normalised_array_dept20_d = scaler.fit_transform(depth20[feature_cols5])\n",
    "normalised_feat1= [normalised_array[:,i] for i in range(normalised_array.shape[1])]\n",
    "normalised_feat2= [normalised_array_dept20_a[:,i] for i in range(normalised_array_dept20_a.shape[-1])]\n",
    "normalised_feat3= [normalised_array_dept20_b[:,i] for i in range(normalised_array_dept20_b.shape[-1])]\n",
    "normalised_feat4= [normalised_array_dept20_c[:,i] for i in range(normalised_array_dept20_c.shape[-1])]\n",
    "normalised_feat5= [normalised_array_dept20_d[:,i] for i in range(normalised_array_dept20_d.shape[-1])]\n",
    "\n",
    "# each list (normalised_feat1 to 5) conatins arrays in number equal to number of columns present in feature_cols1 to 5 \n",
    "# and thus each array contains the normalised values of the features calculated above."
   ]
  },
  {
   "cell_type": "code",
   "execution_count": null,
   "id": "2ecec151",
   "metadata": {},
   "outputs": [
    {
     "data": {
      "text/plain": [
       "<function matplotlib.pyplot.show(close=None, block=None)>"
      ]
     },
     "execution_count": 100,
     "metadata": {},
     "output_type": "execute_result"
    },
    {
     "data": {
      "image/png": "[encoded data removed]",
      "text/plain": [
       "<Figure size 800x500 with 1 Axes>"
      ]
     },
     "metadata": {},
     "output_type": "display_data"
    }
   ],
   "source": [
    "from sklearn.decomposition import PCA\n",
    "from sklearn.impute import SimpleImputer\n",
    "import matplotlib.pyplot as plt\n",
    "norm_features = np.hstack([normalised_array_dept20_a,\n",
    "                           normalised_array_dept20_b,normalised_array_dept20_c,normalised_array_dept20_d])\n",
    "\n",
    "\n",
    "impute = SimpleImputer(strategy='mean')\n",
    "norm_features = impute.fit_transform(norm_features)\n",
    "norm_features2 = impute.fit_transform(normalised_array)\n",
    "\n",
    "\n",
    "pca = PCA()\n",
    "norm_features_pca = pca.fit_transform(norm_features)\n",
    "variance_cumulative = np.cumsum(pca.explained_variance_ratio_)\n",
    "\n",
    "\n",
    "plt.figure(figsize=(8,5))\n",
    "plt.plot(variance_cumulative,marker ='o')\n",
    "plt.axhline(y = 0.8, color='r',linestyle='--', label='80% variance')\n",
    "plt.title('variance vs components')\n",
    "plt.xlabel('number of components')\n",
    "plt.ylabel('variance')\n",
    "plt.grid(True)\n",
    "plt.legend\n",
    "plt.tight_layout\n",
    "plt.show\n",
    "\n"
   ]
  },
  {
   "cell_type": "code",
   "execution_count": null,
   "id": "2c8db84b",
   "metadata": {},
   "outputs": [
    {
     "name": "stdout",
     "output_type": "stream",
     "text": [
      "Number of ideal components for PCA would be 15\n"
     ]
    }
   ],
   "source": [
    "# Total number of components are 68\n",
    "# thus the best number of components to take for PCA is given by: \n",
    "n_comp = np.argmax(variance_cumulative > 0.80)  + 1\n",
    "print(\"Number of ideal components for PCA would be\" ,n_comp)\n",
    "pca = PCA(n_components= n_comp)"
   ]
  },
  {
   "cell_type": "code",
   "execution_count": null,
   "id": "21c84ed2",
   "metadata": {},
   "outputs": [
    {
     "data": {
      "text/plain": [
       "(338519, 15)"
      ]
     },
     "execution_count": 102,
     "metadata": {},
     "output_type": "execute_result"
    }
   ],
   "source": [
    "# Reduced Dimension Features for the dataset, shape of features is (338519, 15)\n",
    "\n",
    "features = pca.fit_transform(norm_features)\n",
    "features.shape\n"
   ]
  },
  {
   "cell_type": "code",
   "execution_count": null,
   "id": "2ac44745",
   "metadata": {},
   "outputs": [
    {
     "data": {
      "image/png": "[encoded data removed]",
      "text/plain": [
       "<Figure size 800x500 with 1 Axes>"
      ]
     },
     "metadata": {},
     "output_type": "display_data"
    }
   ],
   "source": [
    "from sklearn.cluster import KMeans\n",
    "import matplotlib.pyplot as plt\n",
    "\n",
    "inertia = []\n",
    "for k in range(1,11):\n",
    "    kmeans = KMeans(n_clusters=k,n_init=10,random_state=42)\n",
    "    kmeans.fit_transform(features)\n",
    "    inertia.append(kmeans.inertia_)\n",
    "\n",
    "plt.figure(figsize=(8,5))\n",
    "plt.plot(range(1,11),inertia,marker='o')\n",
    "plt.title(\"Elbow plot for optimal K\")\n",
    "plt.xlabel(\"Number of clusters K\")\n",
    "plt.ylabel(\"Inertia\")\n",
    "plt.legend\n",
    "plt.grid(True)\n"
   ]
  },
  {
   "cell_type": "code",
   "execution_count": null,
   "id": "bddfbe74",
   "metadata": {},
   "outputs": [],
   "source": [
    "# Thus from the Elbow graph we get that K=4\n",
    "# as after this the graph does not show very large chnages in the inertia value."
   ]
  },
  {
   "cell_type": "code",
   "execution_count": null,
   "id": "3c84faaf",
   "metadata": {},
   "outputs": [
    {
     "data": {
      "text/plain": [
       "'from sklearn.cluster import KMeans\\nfrom sklearn.metrics import silhouette_score\\n\\nk=4\\nkmeans = KMeans(n_clusters=k,n_init=1,random_state=42)\\ncluster = kmeans.fit_predict(features)\\n\\nacc_score = silhouette_score(features,cluster)\\nprint(\"Clustering Quality is:\", round(acc_score,2))'"
      ]
     },
     "execution_count": 105,
     "metadata": {},
     "output_type": "execute_result"
    }
   ],
   "source": [
    "from sklearn.cluster import KMeans\n",
    "from sklearn.metrics import silhouette_score\n",
    "\n",
    "k=4\n",
    "kmeans = KMeans(n_clusters=k,n_init=1,random_state=42)\n",
    "cluster = kmeans.fit_predict(features)\n",
    "\n",
    "acc_score = silhouette_score(features,cluster)\n",
    "print(\"Clustering Quality is:\", round(acc_score,2))\n",
    "# Calculated Clustering quality = 0.22"
   ]
  },
  {
   "cell_type": "code",
   "execution_count": null,
   "id": "8a947bcb",
   "metadata": {},
   "outputs": [],
   "source": [
    "def classification(row):\n",
    "    strong_return = abs(row[f'Rolling mid-price return'])>0.015\n",
    "    low_volaility = abs(row[f'Price volatility_30s'])< 0.002\n",
    "    strong_imbalance = abs(row[f'imbalance_level1']) >0.2\n",
    "    flat_depth = (row[f'BidSlope']<0.5) & (row[f'AskSlope']<0.5)\n",
    "    trending_signal = sum([strong_return,low_volaility,strong_imbalance,flat_depth])\n",
    "    if trending_signal>=3: trend = 'Trending' \n",
    "    else: trend = 'Mean-reverting'\n",
    "\n",
    "    high_vol = row[f'Price volatility_30s'] > 0.0025\n",
    "    if high_vol:\n",
    "        vol = 'Volatile' \n",
    "    else:\n",
    "        vol = 'Stable'\n",
    "\n",
    "    tight_spread = row['SpreadL1']<0.02\n",
    "    deep_book =  (row['cum_bid_qty'] + row['cum_ask_qty']) > 500\n",
    "    if sum([tight_spread,deep_book])>2:\n",
    "        liq = 'Liquid' \n",
    "    else:\n",
    "        liq = 'Illiquid'\n",
    "\n",
    "    regime = f\"{trend} & {vol} & {liq}\"\n",
    "    return regime\n",
    "\n",
    "depth20[f'Regime'] = depth20.apply(classification,axis =1)\n",
    "depth20[f'Liquidity'] = depth20['cum_bid_qty'] + depth20['cum_ask_qty']\n",
    "depth20[f'Directionality'] = depth20['Rolling mid-price return']\n",
    "depth20 = depth20.merge(\n",
    "    depth20.groupby('Regime')[['Price volatility_30s', 'SpreadL1']].mean().rename(\n",
    "        columns={\n",
    "            'Price volatility_30s': 'Average Volatility',\n",
    "            'SpreadL1': 'Typical Spread'\n",
    "        }\n",
    "    ),\n",
    "    on='Regime',\n",
    "    how='left'\n",
    ")\n",
    "\n"
   ]
  },
  {
   "cell_type": "code",
   "execution_count": null,
   "id": "4017cde9",
   "metadata": {},
   "outputs": [
    {
     "data": {
      "image/png": "[encoded data removed]",
      "text/plain": [
       "<Figure size 1200x1000 with 1 Axes>"
      ]
     },
     "metadata": {},
     "output_type": "display_data"
    }
   ],
   "source": [
    "import matplotlib.pyplot as plt\n",
    "depth20[f'Regime_num'] = depth20[f'Regime'].astype('category').cat.codes\n",
    "sampled_depth20 = depth20.iloc[::10000]\n",
    "\n",
    "plt.figure(figsize=(12,10))\n",
    "plt.plot(sampled_depth20.index ,sampled_depth20[f'Regime'],label='Regime', color='b', marker ='o',markersize=3)\n",
    "plt.title(\"Plot regime evolution over time\")\n",
    "plt.xlabel(\"Time Converted Index\")\n",
    "plt.ylabel(\"Regime\")\n",
    "plt.yticks(ticks=depth20['Regime_num'].unique(), labels=depth20['Regime'].astype('category').cat.categories)\n",
    "plt.legend(loc= 'upper right')\n",
    "plt.grid(True)\n",
    "plt.show()\n",
    "\n",
    "\n"
   ]
  }
 ],
 "metadata": {
  "kernelspec": {
   "display_name": "base",
   "language": "python",
   "name": "python3"
  },
  "language_info": {
   "codemirror_mode": {
    "name": "ipython",
    "version": 3
   },
   "file_extension": ".py",
   "mimetype": "text/x-python",
   "name": "python",
   "nbconvert_exporter": "python",
   "pygments_lexer": "ipython3",
   "version": "3.11.7"
  }
 },
 "nbformat": 4,
 "nbformat_minor": 5
}
